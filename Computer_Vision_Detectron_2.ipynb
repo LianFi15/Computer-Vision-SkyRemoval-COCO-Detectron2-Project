{
  "cells": [
    {
      "cell_type": "markdown",
      "metadata": {
        "id": "KbWzFxGi11Es"
      },
      "source": [
        "### Imports and Installs"
      ]
    },
    {
      "cell_type": "code",
      "execution_count": null,
      "metadata": {
        "id": "fEKzbw0DEdC8"
      },
      "outputs": [],
      "source": [
        "!wget http://images.cocodataset.org/zips/val2017.zip"
      ]
    },
    {
      "cell_type": "code",
      "execution_count": null,
      "metadata": {
        "id": "yMeLdjAV1kYi"
      },
      "outputs": [],
      "source": [
        "#unzip coco dataset\n",
        "!unzip val2017.zip > /dev/null"
      ]
    },
    {
      "cell_type": "code",
      "execution_count": null,
      "metadata": {
        "id": "urU2DuCTHk9T"
      },
      "outputs": [],
      "source": [
        "#unzip json instances\n",
        "!unzip instances_val2017.json.zip > /dev/null"
      ]
    },
    {
      "cell_type": "code",
      "execution_count": null,
      "metadata": {
        "id": "xmX5rubD0TWt"
      },
      "outputs": [],
      "source": [
        "#install detectron2\n",
        "!pip install -U torch==1.5 torchvision==0.6 -f https://download.pytorch.org/whl/cu101/torch_stable.html\n",
        "!pip install pyyaml==5.1 pycocotools>=2.0.1\n",
        "import torch, torchvision\n",
        "print(torch.__version__, torch.cuda.is_available())\n",
        "!gcc --version\n",
        "!pip install detectron2==0.1.3 -f https://dl.fbaipublicfiles.com/detectron2/wheels/cu101/torch1.5/index.html"
      ]
    },
    {
      "cell_type": "code",
      "execution_count": null,
      "metadata": {
        "id": "LHhnI5JS0dMt"
      },
      "outputs": [],
      "source": [
        "import detectron2\n",
        "from detectron2.utils.logger import setup_logger\n",
        "setup_logger()\n",
        "\n",
        "# import some common libraries\n",
        "import numpy as np\n",
        "import cv2\n",
        "import random\n",
        "from google.colab.patches import cv2_imshow\n",
        "import os\n",
        "import json\n",
        "from PIL import Image\n",
        "\n",
        "# import some common detectron2 utilities\n",
        "from detectron2 import model_zoo\n",
        "from detectron2.engine import DefaultPredictor\n",
        "from detectron2.config import get_cfg\n",
        "from detectron2.utils.visualizer import Visualizer\n",
        "from detectron2.data import MetadataCatalog,DatasetCatalog\n",
        "from detectron2.structures import BoxMode\n"
      ]
    },
    {
      "cell_type": "markdown",
      "metadata": {
        "id": "E4Wiyu-K2D96"
      },
      "source": [
        "### Part 1 : Use Detectron2 to run inference"
      ]
    },
    {
      "cell_type": "code",
      "execution_count": null,
      "metadata": {
        "id": "bbP-gqbTUPQa"
      },
      "outputs": [],
      "source": [
        "from detectron2.data.datasets import register_coco_instances\n",
        "register_coco_instances(\"val2017\", {}, \"/content/instances_val2017.json\", \"/content/val2017\")"
      ]
    },
    {
      "cell_type": "code",
      "execution_count": null,
      "metadata": {
        "id": "0ULy6Bnx7tJW"
      },
      "outputs": [],
      "source": [
        "metadata = MetadataCatalog.get(\"val2017\")\n",
        "dataset_dicts = DatasetCatalog.get(\"val2017\")"
      ]
    },
    {
      "cell_type": "code",
      "execution_count": null,
      "metadata": {
        "id": "95Fwj_MY3ouf"
      },
      "outputs": [],
      "source": [
        "#check that we uploaded the correct data and everything works just fine :)\n",
        "for d in random.sample(dataset_dicts, 5):\n",
        "    img = cv2.imread(d[\"file_name\"])\n",
        "    visualizer = Visualizer(img[:, :, ::-1], metadata=metadata, scale=0.5)\n",
        "    out = visualizer.draw_dataset_dict(d)\n",
        "    cv2_imshow(out.get_image()[:, :, ::-1])"
      ]
    },
    {
      "cell_type": "markdown",
      "metadata": {
        "id": "E06cOPTWKkl6"
      },
      "source": [
        "### Part 2 : Crop The Sky"
      ]
    },
    {
      "cell_type": "code",
      "execution_count": null,
      "metadata": {
        "id": "nwTndTHU_glP"
      },
      "outputs": [],
      "source": [
        "\"\"\"\n",
        "Returns the minimal and maximal pixel of each class\n",
        "\n",
        "Paramter outputs: represents the outputs after applying panoptic segmentation\n",
        "\"\"\""
      ]
    },
    {
      "cell_type": "code",
      "execution_count": null,
      "metadata": {
        "id": "B63cHA6zq2LG"
      },
      "outputs": [],
      "source": [
        "def get_pixels (outputs, id):\n",
        "\n",
        "  masks = np.asarray(outputs[\"panoptic_seg\"][0].cpu())\n",
        "  segmentation = np.where(masks == id)\n",
        "  x_min = int(np.min(segmentation[1]))\n",
        "  x_max = int(np.max(segmentation[1]))\n",
        "  y_min = int(np.min(segmentation[0]))\n",
        "  y_max = int(np.max(segmentation[0]))\n",
        "\n",
        "  return x_min, x_max, y_min, y_max"
      ]
    },
    {
      "cell_type": "code",
      "execution_count": null,
      "metadata": {
        "id": "TjigNGlLA1ZY"
      },
      "outputs": [],
      "source": [
        "\"\"\"\n",
        "Returns True if the given image pixels contained in the sky\n",
        "\"\"\"\n"
      ]
    },
    {
      "cell_type": "code",
      "execution_count": null,
      "metadata": {
        "id": "tTMOYzZqq_DG"
      },
      "outputs": [],
      "source": [
        "def item_completely_in_sky(x_min1, x_max1, y_min1, y_max1, x_min2, x_max2, y_min2, y_max2):\n",
        "  if x_min2< x_min1 and x_max2>x_max1 and y_min2< y_min1 and y_max2>y_max1 :\n",
        "    return True"
      ]
    },
    {
      "cell_type": "code",
      "execution_count": null,
      "metadata": {
        "id": "3QatYsXEBE-N"
      },
      "outputs": [],
      "source": [
        "\"\"\"\n",
        "Returns unique id of the sky for each image\n",
        "\n",
        "\"\"\"\n"
      ]
    },
    {
      "cell_type": "code",
      "execution_count": null,
      "metadata": {
        "id": "AcOA4s0aMtfi"
      },
      "outputs": [],
      "source": [
        "def find_pixel_id (outputs):\n",
        "  i=0\n",
        "  id_sky = -1\n",
        "  for data in outputs[\"panoptic_seg\"][1]:\n",
        "    if (data['isthing']==False):\n",
        "      category_id = data['category_id']\n",
        "      id =  data['id']\n",
        "      if MetadataCatalog.get(cfg.DATASETS.TRAIN[0]).stuff_classes[category_id] =='sky':\n",
        "        id_sky = id\n",
        "        del outputs[\"panoptic_seg\"][1][i]\n",
        "    i+=1\n",
        "  return id_sky"
      ]
    },
    {
      "cell_type": "code",
      "execution_count": null,
      "metadata": {
        "id": "xx8-wCIcBtSI"
      },
      "outputs": [],
      "source": [
        "\"\"\"\n",
        "Update and delete items that are completly inside the sky.\n",
        "This step is for keeping the annotations -\n",
        "but remove items that won't appear in the image after we change it.\n",
        "Therefore, we get new list of categories with items that will appear on the\n",
        "new- cropped image.\n",
        "\n",
        "Paramter outputs: represents the outputs after applying panoptic segmentation\n",
        "Parameters x_min2, x_max2, y_min2, y_max2: pixel boundries of the sky in the\n",
        "image\n",
        "\"\"\""
      ]
    },
    {
      "cell_type": "code",
      "execution_count": null,
      "metadata": {
        "id": "Q6MnRxzUrETD"
      },
      "outputs": [],
      "source": [
        "def update_categories(outputs, x_min2, x_max2, y_min2, y_max2):\n",
        "  i=0\n",
        "  for data in outputs[\"panoptic_seg\"][1]:\n",
        "    x_min1, x_max1, y_min1, y_max1 = get_pixels(outputs, data['id'])\n",
        "    if (item_completely_in_sky(x_min1, x_max1, y_min1, y_max1, x_min2, x_max2, y_min2, y_max2)):\n",
        "      del outputs[\"panoptic_seg\"][1][i]\n",
        "    i+=1"
      ]
    },
    {
      "cell_type": "code",
      "execution_count": null,
      "metadata": {
        "id": "hqzg1zswC23f"
      },
      "outputs": [],
      "source": [
        "\"\"\"\n",
        "Return the pixel boundries of the sky in the image.\n",
        "Print the updated image on the screen.\n",
        "\"\"\""
      ]
    },
    {
      "cell_type": "code",
      "execution_count": null,
      "metadata": {
        "id": "oDQKvg9JBrma"
      },
      "outputs": [],
      "source": [
        "def crop_image(outputs, id, img, d):\n",
        "  x_min, x_max, y_min, y_max = get_pixels(outputs, id)\n",
        "\n",
        "  if d > y_max:\n",
        "    cropped = Image.fromarray(img[y_max:, :, ::-1], mode='RGB')\n",
        "    cv2_imshow(np.array(cropped))\n",
        "\n",
        "  else:\n",
        "    image = Image.fromarray(img[:, :, ::-1], mode='RGB')\n",
        "    cv2_imshow(np.array(image))\n",
        "\n",
        "  return x_min, x_max, y_min, y_max"
      ]
    },
    {
      "cell_type": "code",
      "execution_count": null,
      "metadata": {
        "id": "46FHxjIUDItU"
      },
      "outputs": [],
      "source": [
        "\"\"\"\n",
        "Manipulate the data such that :\n",
        "1. Detect the sky unique id in each image\n",
        "2. Count how many images with sky we have in our dataset (just some interesting\n",
        "notation)\n",
        "3. Calculate the sky pixel boundries in the image\n",
        "4. Update the width of the image corresponding to the upper bound of the sky\n",
        "5. Update the categories and delete the ones that won't appear in the cropped\n",
        "image\n",
        "\n",
        "IN SUMMARY : we crop the sky, update the image, and keep the image annotations-\n",
        "only the one that will appear in the image after the manipulation\n",
        "\n",
        "NOTE : due to runtime limitation, I tested my code on 50 random images from\n",
        "the dataset\n",
        "\"\"\""
      ]
    },
    {
      "cell_type": "code",
      "execution_count": null,
      "metadata": {
        "id": "ap1wGFqVJLov"
      },
      "outputs": [],
      "source": [
        "def crop_sky (dataset_dicts, predictor):\n",
        "  count_images_sky = 0\n",
        "  i=1\n",
        "  for d in random.sample(dataset_dicts, 50):\n",
        "    img = cv2.imread(d[\"file_name\"])\n",
        "    panoptic_seg, segments_info = predictor(img)[\"panoptic_seg\"]\n",
        "    outputs = predictor(img)\n",
        "    id = find_pixel_id(outputs)\n",
        "    visualizer = Visualizer(img[:, :, ::-1], metadata=metadata)\n",
        "    out = visualizer.draw_dataset_dict(d)\n",
        "\n",
        "    if id != -1:\n",
        "      count_images_sky +=1\n",
        "      #print new image and update the width\n",
        "      print(f'Image With Cropped Sky! image num :{i}')\n",
        "      i+=1\n",
        "      x2_min, x2_max, y2_min, y2_max = crop_image(outputs, id, out.get_image(),d[\"width\"] )\n",
        "      if d[\"width\"]>y2_max:\n",
        "         d[\"width\"] = y2_max\n",
        "      #update the categories\n",
        "      update_categories(outputs , x2_min, x2_max, y2_min, y2_max)\n",
        "\n",
        "    else: #if we didn't change the image, we still want to print it - full size\n",
        "      print(f'Image Without Cropped Sky. image num :{i}')\n",
        "      i+=1\n",
        "      cv2_imshow(out.get_image()[:, :, ::-1])\n",
        "\n",
        "  return count_images_sky"
      ]
    },
    {
      "cell_type": "code",
      "execution_count": null,
      "metadata": {
        "id": "lW2L64DIFAo-"
      },
      "outputs": [],
      "source": [
        "\"\"\"\n",
        "In order to detect the sky , I used panoptic segmentation on the dataset\n",
        "Below is the code to execute the process\n",
        "\n",
        "Important Note!\n",
        "I used panoptic segmentation, yet I manipulated and changed the original image,\n",
        "therefore I didn't change the appearance of the image\n",
        "(only while testing and learning the dataset :) )\n",
        "\"\"\""
      ]
    },
    {
      "cell_type": "code",
      "execution_count": null,
      "metadata": {
        "id": "g8NBKKJUYKPD",
        "colab": {
          "base_uri": "https://localhost:8080/"
        },
        "outputId": "3fd0c456-a8f9-4031-d28b-71d2fb35f2cc"
      },
      "outputs": [
        {
          "output_type": "stream",
          "name": "stderr",
          "text": [
            "model_final_cafdb1.pkl: 261MB [00:07, 34.4MB/s]                           \n"
          ]
        }
      ],
      "source": [
        "#use panoptic segmentation on the dataset\n",
        "cfg = get_cfg()\n",
        "cfg.merge_from_file(model_zoo.get_config_file(\"COCO-PanopticSegmentation/panoptic_fpn_R_101_3x.yaml\"))\n",
        "cfg.MODEL.WEIGHTS = model_zoo.get_checkpoint_url(\"COCO-PanopticSegmentation/panoptic_fpn_R_101_3x.yaml\")\n",
        "predictor = DefaultPredictor(cfg)"
      ]
    },
    {
      "cell_type": "code",
      "execution_count": null,
      "metadata": {
        "id": "0fffMViLtkGY"
      },
      "outputs": [],
      "source": [
        "count = crop_sky(dataset_dicts, predictor)"
      ]
    },
    {
      "cell_type": "code",
      "source": [
        "print(f'Total Images With(out) Sky:{count}')"
      ],
      "metadata": {
        "colab": {
          "base_uri": "https://localhost:8080/"
        },
        "id": "fE8udUPuNVhx",
        "outputId": "abf964ef-ff69-4061-fd60-2701932b3080"
      },
      "execution_count": null,
      "outputs": [
        {
          "output_type": "stream",
          "name": "stdout",
          "text": [
            "Total Images With(out) Sky:17\n"
          ]
        }
      ]
    }
  ],
  "metadata": {
    "accelerator": "GPU",
    "colab": {
      "provenance": []
    },
    "gpuClass": "standard",
    "kernelspec": {
      "display_name": "Python 3",
      "name": "python3"
    },
    "language_info": {
      "name": "python"
    }
  },
  "nbformat": 4,
  "nbformat_minor": 0
}